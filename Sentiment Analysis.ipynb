{
 "cells": [
  {
   "cell_type": "markdown",
   "metadata": {},
   "source": [
    "# Creating and Visualizing Polarity Independence Scores "
   ]
  },
  {
   "cell_type": "code",
   "execution_count": null,
   "id": "d92d738f",
   "metadata": {},
   "outputs": [],
   "source": [
    "# !pip install pysentimiento\n",
    "# !pip install transformers\n",
    "\n",
    "from tqdm import tqdm\n",
    "import pandas as pd\n",
    "import re\n",
    "import pysentimiento\n",
    "import pickle\n",
    "from transformers import pipeline"
   ]
  },
  {
   "cell_type": "code",
   "execution_count": null,
   "id": "55470f30",
   "metadata": {},
   "outputs": [],
   "source": [
    "\n",
    "# load dataset with preprocessed text\n",
    "df = pd.read_csv('Data/dataset_token_ready.csv')"
   ]
  },
  {
   "cell_type": "code",
   "execution_count": null,
   "id": "1bb09b08",
   "metadata": {},
   "outputs": [],
   "source": [
    "\n",
    "# define regex to search for mentions of president Ortega\n",
    "regex = r'([Oo]rtega)|([Nn]uestro [Pp]residente)|[Pp]residente de [Nn]icaragua|([Cc]omandante [Dd]aniel)|[Dd]aniel y [Rr]osario'\n",
    "\n",
    "# subset articles that contain mentions of president Ortega\n",
    "df = df.loc[df['text'].str.contains(regex, na = False)].reset_index(drop = True)\n",
    "\n",
    "# split string of texts into list of sentences\n",
    "df[\"sentences\"] = df.text.apply(lambda x: re.split(\"[.!?]\", x))\n",
    "\n",
    "# explode rows so that each row contains one sentence\n",
    "df = df.explode(\"sentences\", ignore_index = True)\n",
    "\n",
    "# subset sentences that contain mentions of Ortega\n",
    "df = df.loc[df[\"sentences\"].str.contains(regex)].reset_index(drop = True)\n",
    "\n",
    "# if sentence longer than 200 words, keep only 90 word window around first mention of Ortega\n",
    "def trim_sentence(sentence, regex):\n",
    "    words = sentence.split()\n",
    "    if len(words) > 200:\n",
    "        match = re.search(regex, sentence)\n",
    "        if match:\n",
    "            start_index = match.start()\n",
    "            start_word_index = len(sentence[:start_index].split())\n",
    "            window_start = max(0, start_word_index - 45)\n",
    "            window_end = min(len(words), start_word_index + 45)\n",
    "            return ' '.join(words[window_start:window_end])\n",
    "    return sentence\n",
    "\n",
    "df[\"sentences\"] = df[\"sentences\"].apply(lambda x: trim_sentence(x, regex))\n",
    "# drop text column\n",
    "df.drop(\"text\", axis = 1, inplace = True)\n",
    "\n",
    "sentences = df[\"sentences\"].tolist()"
   ]
  },
  {
   "cell_type": "code",
   "execution_count": null,
   "id": "5189bf92",
   "metadata": {},
   "outputs": [],
   "source": [
    "\n",
    "analyzer = pysentimiento.create_analyzer(task=\"sentiment\", lang=\"es\")\n",
    "\n",
    "\n",
    "# define function to analyze sentiment of sentence\n",
    "def analyze_sentences(sentences):\n",
    "    results = []\n",
    "    for sentence in tqdm(sentences):\n",
    "        sentiment = analyzer.predict(sentence).output\n",
    "        results.append(sentiment)\n",
    "    return results"
   ]
  },
  {
   "cell_type": "code",
   "execution_count": null,
   "id": "9a086d14",
   "metadata": {},
   "outputs": [],
   "source": [
    "analyser_distil = pipeline(\n",
    "    model=\"lxyuan/distilbert-base-multilingual-cased-sentiments-student\", \n",
    "    return_all_scores=False\n",
    ")\n",
    "\n",
    "\n",
    "\n",
    "# define function to analyze sentiment of sentence\n",
    "def analyze_sentences(sentences):\n",
    "    results = []\n",
    "    for sentence in tqdm(sentences):\n",
    "        sentiment = analyser_distil(sentence)[0][\"label\"]\n",
    "        results.append(sentiment)\n",
    "    return results"
   ]
  },
  {
   "cell_type": "code",
   "execution_count": null,
   "id": "5c71171d",
   "metadata": {},
   "outputs": [],
   "source": [
    "results = analyze_sentences(sentences)\n",
    "df[\"sentiment\"] = results"
   ]
  },
  {
   "cell_type": "code",
   "execution_count": null,
   "id": "bad57103",
   "metadata": {},
   "outputs": [],
   "source": [
    "with open(\"dataset_sentiment_new_class.pkl\", \"wb\") as f:\n",
    "    pickle.dump(df, f)"
   ]
  },
  {
   "cell_type": "code",
   "execution_count": null,
   "id": "7f1bd5f8",
   "metadata": {},
   "outputs": [],
   "source": [
    "# Transform date to datetime format\n",
    "dfa['date'] = pd.to_datetime(dfa['date'], format='mixed', errors='coerce')\n",
    "\n",
    "# Create different date periods for aggregation\n",
    "dfa[\"quarter\"] = dfa.date.dt.to_period('Q')\n",
    "dfa['quarter'] = dfa['quarter'].dt.strftime('%Y-%m')\n",
    "\n",
    "# Create semiannual periods\n",
    "def get_semiannual_period(date):\n",
    "    year = date.year\n",
    "    if date.month <= 6:\n",
    "        return f\"{year}Q1\"\n",
    "    else:\n",
    "        return f\"{year}Q3\"\n",
    "\n",
    "dfa['semiannual'] = dfa['date'].apply(get_semiannual_period)\n",
    "dfa['semiannual'] = dfa['semiannual'].dt.strftime('%Y-%m')\n",
    "\n",
    "dfa[\"year\"] = dfa.date.dt.to_period('Y')\n",
    "dfa['year'] = dfa['year'].dt.strftime('%Y')\n",
    "dfa['year_month'] = dfa['date'].dt.strftime('%Y-%m')"
   ]
  },
  {
   "cell_type": "code",
   "execution_count": null,
   "id": "c9d0d772",
   "metadata": {},
   "outputs": [],
   "source": [
    "# Change this variable to desired aggregation level\n",
    "agg_level = \"year_month\"\n",
    "dfa[\"date\"] = dfa[agg_level]\n",
    "dfa[\"date\"] = pd.to_datetime(dfa[\"date\"])"
   ]
  },
  {
   "cell_type": "code",
   "execution_count": null,
   "id": "5ca2528a",
   "metadata": {},
   "outputs": [],
   "source": [
    "# Polarity and Independence Visualization\n",
    "\n",
    "# Create aggregated overview of sentiment per position and year-quarter\n",
    "df_agg = (dfa.groupby([\"position\", \"date\"])[\"sentiment\"]\n",
    "          .value_counts(normalize=True)\n",
    "          .rename(\"proportion\")\n",
    "          .reset_index())\n",
    "\n",
    "# Create polarity variable\n",
    "df_agg.loc[df_agg[\"sentiment\"] == \"neutral\", \"polarity\"] = 0\n",
    "df_agg.loc[df_agg[\"sentiment\"] == \"positive\", \"polarity\"] = df_agg[\"proportion\"]\n",
    "df_agg.loc[df_agg[\"sentiment\"] == \"negative\", \"polarity\"] = df_agg[\"proportion\"] * -1\n",
    "\n",
    "# Create polarity aggregated data\n",
    "df_pol = df_agg.groupby([\"position\", \"date\"]).agg({\"polarity\": np.sum}).reset_index()"
   ]
  },
  {
   "cell_type": "code",
   "execution_count": null,
   "id": "1ee20dfa",
   "metadata": {},
   "outputs": [],
   "source": [
    "# Create quarterly independence score visualizations\n",
    "\n",
    "# Create table to see how many mentions per outlet per year\n",
    "df_can = pd.pivot(df_pol, index=\"date\", columns=\"position\", values=\"polarity\")\n",
    "\n",
    "# Create independence scores\n",
    "df_can[\"Canal10\"] = (((abs(df_can[\"Canal10\"] - df_can[\"regime\"]) - abs(df_can[\"Canal10\"] - df_can[\"opposition\"])) / abs(df_can[\"opposition\"] - df_can[\"regime\"])) + 1) / 2\n",
    "df_can[\"Canal14\"] = (((abs(df_can[\"Canal14\"] - df_can[\"regime\"]) - abs(df_can[\"Canal14\"] - df_can[\"opposition\"])) / abs(df_can[\"opposition\"] - df_can[\"regime\"])) + 1) / 2\n",
    "df_can[\"Radio Corporacion\"] = (((abs(df_can[\"Radio Corporacion\"] - df_can[\"regime\"]) - abs(df_can[\"Radio Corporacion\"] - df_can[\"opposition\"])) / abs(df_can[\"opposition\"] - df_can[\"regime\"])) + 1) / 2\n",
    "\n",
    "\n",
    "# Melt back to long format\n",
    "df_ind = pd.melt(df_can.reset_index(), id_vars=['date'],\n",
    "                 value_vars=['Canal10', \"Canal14\", \"Radio Corporacion\"],\n",
    "                 value_name=\"independence score\")\n"
   ]
  }
 ],
 "metadata": {
  "kernelspec": {
   "display_name": "Python 3",
   "language": "python",
   "name": "python3"
  },
  "language_info": {
   "codemirror_mode": {
    "name": "ipython",
    "version": 3
   },
   "file_extension": ".py",
   "mimetype": "text/x-python",
   "name": "python",
   "nbconvert_exporter": "python",
   "pygments_lexer": "ipython3",
   "version": "3.11.9"
  }
 },
 "nbformat": 4,
 "nbformat_minor": 5
}
